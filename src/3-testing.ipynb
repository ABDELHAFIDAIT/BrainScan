{
 "cells": [
  {
   "cell_type": "markdown",
   "id": "d6c82238",
   "metadata": {},
   "source": [
    "## <center style=\"color:red;\">**BrainScan – Détection du Cancer Cérébral par CNN**</center>\n",
    "\n",
    "<br>\n",
    "\n",
    "### <span style=\"color:green;\">**Déploiement et Interface Utilisateur :**</span>"
   ]
  },
  {
   "cell_type": "code",
   "execution_count": 1,
   "id": "b848651f",
   "metadata": {},
   "outputs": [
    {
     "name": "stdout",
     "output_type": "stream",
     "text": [
      "Variables importées avec succès !\n"
     ]
    }
   ],
   "source": [
    "import joblib as jbl\n",
    "\n",
    "variables = jbl.load(\"../util/variables.pkl\")\n",
    "\n",
    "X_train = variables[\"X_train\"]\n",
    "y_train = variables[\"y_train\"]\n",
    "X_test = variables[\"X_test\"]\n",
    "y_test = variables[\"y_test\"]\n",
    "images = variables[\"images\"]\n",
    "labels = variables[\"labels\"]\n",
    "\n",
    "print(\"Variables importées avec succès !\")"
   ]
  },
  {
   "cell_type": "markdown",
   "id": "935e7568",
   "metadata": {},
   "source": [
    "#### <span style=\"color:blue;\">**1. Tester une image IRM pour prédire la présence de cancer :**</span>"
   ]
  },
  {
   "cell_type": "markdown",
   "id": "624a7ee4",
   "metadata": {},
   "source": [
    "##### **1.1. Charger le modèle entraîné :**"
   ]
  },
  {
   "cell_type": "code",
   "execution_count": 3,
   "id": "375dc1d8",
   "metadata": {},
   "outputs": [],
   "source": [
    "import tensorflow as tf\n",
    "\n",
    "model = tf.keras.models.load_model(\"../models/best_model.keras\")"
   ]
  },
  {
   "cell_type": "markdown",
   "id": "ce0e66a8",
   "metadata": {},
   "source": [
    "##### **1.2. Créer une fonction ``predict_image(path)`` :**"
   ]
  },
  {
   "cell_type": "code",
   "execution_count": 5,
   "id": "8a1835f2",
   "metadata": {},
   "outputs": [],
   "source": [
    "import numpy as np\n",
    "import cv2\n",
    "\n",
    "def predict_image(image_path):\n",
    "\n",
    "    img = cv2.imread(image_path)\n",
    "    img = cv2.resize(img, (224, 224))\n",
    "    img = cv2.cvtColor(img, cv2.COLOR_BGR2RGB)\n",
    "    img = img.astype(\"float32\") / 255.0\n",
    "    img = np.expand_dims(img, axis=0) \n",
    "\n",
    "\n",
    "    prediction = model.predict(img)\n",
    "    class_index = np.argmax(prediction, axis=1)[0]\n",
    "    confidence = np.max(prediction) * 100\n",
    "\n",
    "\n",
    "    predicted_class = labels[class_index]\n",
    "\n",
    "    return predicted_class, confidence"
   ]
  }
 ],
 "metadata": {
  "kernelspec": {
   "display_name": "Python 3",
   "language": "python",
   "name": "python3"
  },
  "language_info": {
   "codemirror_mode": {
    "name": "ipython",
    "version": 3
   },
   "file_extension": ".py",
   "mimetype": "text/x-python",
   "name": "python",
   "nbconvert_exporter": "python",
   "pygments_lexer": "ipython3",
   "version": "3.13.7"
  }
 },
 "nbformat": 4,
 "nbformat_minor": 5
}
