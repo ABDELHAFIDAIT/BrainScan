{
 "cells": [
  {
   "cell_type": "markdown",
   "id": "d6c82238",
   "metadata": {},
   "source": [
    "## <center style=\"color:red;\">**BrainScan – Détection du Cancer Cérébral par CNN**</center>\n",
    "\n",
    "<br>\n",
    "\n",
    "### <span style=\"color:green;\">**Déploiement et Interface Utilisateur :**</span>"
   ]
  },
  {
   "cell_type": "code",
   "execution_count": 1,
   "id": "b848651f",
   "metadata": {},
   "outputs": [
    {
     "name": "stdout",
     "output_type": "stream",
     "text": [
      "Variables importées avec succès !\n"
     ]
    }
   ],
   "source": [
    "import joblib as jbl\n",
    "\n",
    "variables = jbl.load(\"../util/variables.pkl\")\n",
    "\n",
    "X_train = variables[\"X_train\"]\n",
    "y_train = variables[\"y_train\"]\n",
    "X_test = variables[\"X_test\"]\n",
    "y_test = variables[\"y_test\"]\n",
    "images = variables[\"images\"]\n",
    "labels = variables[\"labels\"]\n",
    "\n",
    "print(\"Variables importées avec succès !\")"
   ]
  },
  {
   "cell_type": "markdown",
   "id": "935e7568",
   "metadata": {},
   "source": [
    "#### <span style=\"color:blue;\">**1. Tester une image IRM pour prédire la présence de cancer :**</span>"
   ]
  }
 ],
 "metadata": {
  "kernelspec": {
   "display_name": "Python 3",
   "language": "python",
   "name": "python3"
  },
  "language_info": {
   "codemirror_mode": {
    "name": "ipython",
    "version": 3
   },
   "file_extension": ".py",
   "mimetype": "text/x-python",
   "name": "python",
   "nbconvert_exporter": "python",
   "pygments_lexer": "ipython3",
   "version": "3.13.7"
  }
 },
 "nbformat": 4,
 "nbformat_minor": 5
}
