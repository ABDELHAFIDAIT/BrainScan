{
 "cells": [
  {
   "cell_type": "markdown",
   "id": "5dc7c0fd",
   "metadata": {},
   "source": [
    "## <center style=\"color:red;\">**BrainScan – Détection du Cancer Cérébral par CNN**</center>\n",
    "\n",
    "<br>\n",
    "\n",
    "### <span style=\"color:green;\">**Conception du Modèle CNN :**</span>\n",
    "\n",
    "#### <span style=\"color:blue;\">**1. Définir l’architecture du modèle CNN :**</span>"
   ]
  },
  {
   "cell_type": "code",
   "execution_count": 2,
   "id": "7beb6953",
   "metadata": {},
   "outputs": [
    {
     "name": "stdout",
     "output_type": "stream",
     "text": [
      "Variables importées avec succès !\n"
     ]
    }
   ],
   "source": [
    "import tensorflow as tf\n",
    "from tensorflow.keras import layers, models\n",
    "from tensorflow.keras.utils import plot_model\n",
    "import time\n",
    "import joblib as jbl\n",
    "\n",
    "variables = jbl.load(\"../util/variables.pkl\")\n",
    "\n",
    "X_train = variables[\"X_train\"]\n",
    "y_train = variables[\"y_train\"]\n",
    "X_test = variables[\"X_test\"]\n",
    "y_test = variables[\"y_test\"]\n",
    "images = variables[\"images\"]\n",
    "labels = variables[\"labels\"]\n",
    "\n",
    "print(\"Variables importées avec succès !\")"
   ]
  },
  {
   "cell_type": "markdown",
   "id": "7c8e9768",
   "metadata": {},
   "source": [
    "**Créer le modèle avec des couches Conv2D, MaxPooling, Dropout, Dense :**"
   ]
  },
  {
   "cell_type": "code",
   "execution_count": null,
   "id": "80e478d5",
   "metadata": {},
   "outputs": [],
   "source": [
    "\n",
    "model = models.Sequential([\n",
    "    # Couche 1 : Convolution + ReLU + MaxPooling\n",
    "    layers.Conv2D(32, (3, 3), activation='relu', input_shape=(224, 224, 3)),\n",
    "    layers.MaxPooling2D((2, 2)),\n",
    "    \n",
    "    # Couche 2 : Convolution + ReLU + MaxPooling\n",
    "    layers.Conv2D(64, (3, 3), activation='relu'),\n",
    "    layers.MaxPooling2D((2, 2)),\n",
    "    \n",
    "    # Couche 3 : Convolution + ReLU + MaxPooling\n",
    "    layers.Conv2D(128, (3, 3), activation='relu'),\n",
    "    layers.MaxPooling2D((2, 2)),\n",
    "    \n",
    "    # Dropout pour éviter le surapprentissage\n",
    "    layers.Dropout(0.3),\n",
    "    \n",
    "    # Couche Flatten pour aplatir les cartes de caractéristiques\n",
    "    layers.Flatten(),\n",
    "    \n",
    "    # Couche Dense cachée\n",
    "    layers.Dense(128, activation='relu'),\n",
    "    \n",
    "    # Dropout supplémentaire\n",
    "    layers.Dropout(0.3),\n",
    "    \n",
    "    # Couche de sortie (nombre de neurones = nombre de classes)\n",
    "    layers.Dense(y_train.shape[1], activation='softmax')  # Softmax pour classification multi-classes\n",
    "])"
   ]
  }
 ],
 "metadata": {
  "kernelspec": {
   "display_name": "Python 3",
   "language": "python",
   "name": "python3"
  },
  "language_info": {
   "codemirror_mode": {
    "name": "ipython",
    "version": 3
   },
   "file_extension": ".py",
   "mimetype": "text/x-python",
   "name": "python",
   "nbconvert_exporter": "python",
   "pygments_lexer": "ipython3",
   "version": "3.13.7"
  }
 },
 "nbformat": 4,
 "nbformat_minor": 5
}
