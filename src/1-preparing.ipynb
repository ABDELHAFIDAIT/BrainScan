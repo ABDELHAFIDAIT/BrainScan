{
 "cells": [
  {
   "cell_type": "markdown",
   "id": "3c8769a3",
   "metadata": {},
   "source": [
    "## <center>**BrainScan – Détection du Cancer Cérébral par CNN**</center>\n",
    "\n",
    "Ce projet vise à développer un modèle de Deep Learning capable de classer les images IRM cérébrales afin de détecter le cancer du cerveau avec précision. Il combine CNN, TensorFlow/Keras et OpenCV pour offrir une solution rapide, fiable et utile à l’aide au diagnostic médical.\n",
    "\n",
    "<br>"
   ]
  }
 ],
 "metadata": {
  "language_info": {
   "name": "python"
  }
 },
 "nbformat": 4,
 "nbformat_minor": 5
}
