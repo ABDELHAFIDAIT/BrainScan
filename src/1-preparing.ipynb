{
 "cells": [
  {
   "cell_type": "markdown",
   "id": "3c8769a3",
   "metadata": {},
   "source": [
    "## <center style=\"color:red;\">**BrainScan – Détection du Cancer Cérébral par CNN**</center>\n",
    "\n",
    "Ce projet vise à développer un modèle de Deep Learning capable de classer les images IRM cérébrales afin de détecter le cancer du cerveau avec précision. Il combine CNN, TensorFlow/Keras et OpenCV pour offrir une solution rapide, fiable et utile à l’aide au diagnostic médical.\n",
    "\n",
    "<br>\n",
    "\n",
    "### <span style=\"color:green;\">**Chargement et Prétraitement du Dataset :**</span>\n",
    "\n",
    "#### <span style=\"color:blue;\">**1. Importer les bibliothèques nécessaires :**</span>"
   ]
  },
  {
   "cell_type": "code",
   "execution_count": 53,
   "id": "952a9568",
   "metadata": {},
   "outputs": [],
   "source": [
    "import pandas as pd\n",
    "import numpy as np\n",
    "import os\n",
    "import matplotlib.pyplot as plt\n",
    "import zipfile\n",
    "import cv2"
   ]
  },
  {
   "cell_type": "markdown",
   "id": "e8a2efd4",
   "metadata": {},
   "source": [
    "#### <span style=\"color:blue;\">**2. Chargement des Images et Vérification des Extensions :**</span>\n",
    "\n",
    "**Définir les chemins pour le fichier ZIP et le dossier de décompression :**"
   ]
  },
  {
   "cell_type": "code",
   "execution_count": 54,
   "id": "11b17cd5",
   "metadata": {},
   "outputs": [],
   "source": [
    "zip_path = \"../data/zip/Data.zip\"\n",
    "unziped_path = \"../data/unziped\""
   ]
  },
  {
   "cell_type": "markdown",
   "id": "dead9257",
   "metadata": {},
   "source": [
    "**Décompresser le ZIP si le fichier existe :**"
   ]
  },
  {
   "cell_type": "code",
   "execution_count": 55,
   "id": "9f199b00",
   "metadata": {},
   "outputs": [
    {
     "name": "stdout",
     "output_type": "stream",
     "text": [
      "Décompression de ../data/zip/Data.zip vers ../data/unziped :\n",
      "Décompression Terminée.\n"
     ]
    }
   ],
   "source": [
    "if os.path.exists(zip_path) :\n",
    "    print(f\"Décompression de {zip_path} vers {unziped_path} :\")\n",
    "    with zipfile.ZipFile(zip_path, 'r') as z :\n",
    "        if os.path.exists(unziped_path) :\n",
    "            z.extractall(unziped_path)\n",
    "        else :\n",
    "            print(f\"{unziped_path} Non Trouvé !\")\n",
    "    print(\"Décompression Terminée.\")\n",
    "else :\n",
    "    print(f\"{zip_path} Non Trouvé !\")"
   ]
  },
  {
   "cell_type": "markdown",
   "id": "73d93160",
   "metadata": {},
   "source": [
    "**Trouver toutes les classes (dossiers/sous-dossiers) :**"
   ]
  },
  {
   "cell_type": "code",
   "execution_count": 56,
   "id": "f680cd04",
   "metadata": {},
   "outputs": [
    {
     "name": "stdout",
     "output_type": "stream",
     "text": [
      "classes =  ['Data/glioma', 'Data/meningioma', 'Data/notumor', 'Data/pituitary']\n"
     ]
    }
   ],
   "source": [
    "\n",
    "classes = []\n",
    "\n",
    "for d in sorted(os.listdir(unziped_path)) :\n",
    "    for sub_d in sorted(os.listdir(f\"{unziped_path}/{d}\")) :\n",
    "        if os.path.isdir(os.path.join(unziped_path, d, sub_d)):\n",
    "            classes.append(f\"{d}/{sub_d}\")\n",
    "\n",
    "print(\"classes = \",classes)"
   ]
  },
  {
   "cell_type": "markdown",
   "id": "341bfa10",
   "metadata": {},
   "source": [
    "**Définir les extensions d'image autorisées :**"
   ]
  },
  {
   "cell_type": "code",
   "execution_count": 57,
   "id": "c5c0aaf4",
   "metadata": {},
   "outputs": [],
   "source": [
    "allowed_extensions = ['jpeg', 'jpg', 'bmp', 'png']\n",
    "\n",
    "# Listes pour stocker les images et leurs labels\n",
    "images = []\n",
    "labels = []"
   ]
  },
  {
   "cell_type": "markdown",
   "id": "f16f308c",
   "metadata": {},
   "source": [
    "**Parcourir chaque classe et charger les images et Supprimer les fichiers avec extensions non autorisées :**"
   ]
  },
  {
   "cell_type": "code",
   "execution_count": 58,
   "id": "de1abc01",
   "metadata": {},
   "outputs": [],
   "source": [
    "for c in classes :\n",
    "    \n",
    "    dir_path = os.path.join(unziped_path, c)\n",
    "\n",
    "    for img in os.listdir(dir_path) :\n",
    "        img_path = os.path.join(dir_path, img)\n",
    "\n",
    "         # Vérifier que c'est un fichier\n",
    "        if os.path.isfile(img_path) :\n",
    "\n",
    "            # Récupérer l'extension en minuscule\n",
    "            img_extension = img.split('.')[1].lower()\n",
    "            \n",
    "            if img_extension in allowed_extensions :\n",
    "                # Lire l'image avec OpenCV\n",
    "                pic = cv2.imread(img_path)\n",
    "                if pic is not None :\n",
    "                    images.append(pic)              # Ajouter l'image à la liste\n",
    "                    lbl = str(c.split('/')[1])      # Extraire le label de la sous-classe\n",
    "                    labels.append(lbl)              # Ajouter le label correspondant\n",
    "            else :\n",
    "                # Supprimer le fichier si l'extension n'est pas autorisée\n",
    "                os.remove(img_path)"
   ]
  }
 ],
 "metadata": {
  "kernelspec": {
   "display_name": "Python 3",
   "language": "python",
   "name": "python3"
  },
  "language_info": {
   "codemirror_mode": {
    "name": "ipython",
    "version": 3
   },
   "file_extension": ".py",
   "mimetype": "text/x-python",
   "name": "python",
   "nbconvert_exporter": "python",
   "pygments_lexer": "ipython3",
   "version": "3.13.7"
  }
 },
 "nbformat": 4,
 "nbformat_minor": 5
}
