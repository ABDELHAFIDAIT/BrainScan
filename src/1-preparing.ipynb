{
 "cells": [
  {
   "cell_type": "markdown",
   "id": "3c8769a3",
   "metadata": {},
   "source": [
    "## <center>**BrainScan – Détection du Cancer Cérébral par CNN**</center>\n",
    "\n",
    "Ce projet vise à développer un modèle de Deep Learning capable de classer les images IRM cérébrales afin de détecter le cancer du cerveau avec précision. Il combine CNN, TensorFlow/Keras et OpenCV pour offrir une solution rapide, fiable et utile à l’aide au diagnostic médical.\n",
    "\n",
    "<br>\n",
    "\n",
    "### **Chargement et Prétraitement du Dataset :**\n",
    "\n",
    "#### **1. Importer les bibliothèques nécessaires :**"
   ]
  },
  {
   "cell_type": "code",
   "execution_count": 1,
   "id": "952a9568",
   "metadata": {},
   "outputs": [],
   "source": [
    "import pandas as pd\n",
    "import numpy as np\n",
    "import os\n",
    "import matplotlib.pyplot as plt"
   ]
  }
 ],
 "metadata": {
  "kernelspec": {
   "display_name": "Python 3",
   "language": "python",
   "name": "python3"
  },
  "language_info": {
   "codemirror_mode": {
    "name": "ipython",
    "version": 3
   },
   "file_extension": ".py",
   "mimetype": "text/x-python",
   "name": "python",
   "nbconvert_exporter": "python",
   "pygments_lexer": "ipython3",
   "version": "3.13.7"
  }
 },
 "nbformat": 4,
 "nbformat_minor": 5
}
